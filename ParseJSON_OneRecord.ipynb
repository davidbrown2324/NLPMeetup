{
 "cells": [
  {
   "cell_type": "code",
   "execution_count": 17,
   "metadata": {
    "collapsed": true
   },
   "outputs": [],
   "source": [
    "import json\n",
    "import re"
   ]
  },
  {
   "cell_type": "markdown",
   "metadata": {},
   "source": [
    "### Read data\n",
    "\n",
    "Load file directly from filesystem use JSON library"
   ]
  },
  {
   "cell_type": "code",
   "execution_count": 18,
   "metadata": {
    "collapsed": true
   },
   "outputs": [],
   "source": [
    "f = open(\"__data_export.json\")\n",
    "data = json.load(f)"
   ]
  },
  {
   "cell_type": "code",
   "execution_count": 19,
   "metadata": {},
   "outputs": [
    {
     "name": "stdout",
     "output_type": "stream",
     "text": [
      "4644\n"
     ]
    }
   ],
   "source": [
    "print(len(data))"
   ]
  },
  {
   "cell_type": "code",
   "execution_count": 21,
   "metadata": {},
   "outputs": [],
   "source": [
    "#print(data.keys())"
   ]
  },
  {
   "cell_type": "code",
   "execution_count": 23,
   "metadata": {},
   "outputs": [],
   "source": [
    "#print(data['NCT01266616'])"
   ]
  },
  {
   "cell_type": "code",
   "execution_count": 24,
   "metadata": {},
   "outputs": [
    {
     "name": "stdout",
     "output_type": "stream",
     "text": [
      "['HIV Infections', 'Interleukin-12', 'Electroporation', 'HIV Therapeutic Vaccine', 'Vaccines', 'Profectus HIV MAG pDNA vaccine', 'IL-12']\n"
     ]
    }
   ],
   "source": [
    "print(data['NCT01266616']['keywords'])"
   ]
  },
  {
   "cell_type": "markdown",
   "metadata": {},
   "source": [
    "### Keywords\n",
    "\n",
    "Extract all unique keywords\n",
    "Note that we are cleaning this in an attempt to remove duplicates and avoid unusual characters\n",
    "This may affect the outcome, and creates a mapping issue if we want to get back to the original names!"
   ]
  },
  {
   "cell_type": "code",
   "execution_count": 7,
   "metadata": {
    "collapsed": true
   },
   "outputs": [],
   "source": [
    "keywords = set()\n",
    "for d in data.keys():\n",
    "    for k in data[d]['keywords']:\n",
    "        word = re.sub(\"[^a-zA-Z0-9/s]\",\" \", k).strip().lower()\n",
    "        k = word.replace(\" \", \"_\")\n",
    "        keywords.add(word)"
   ]
  },
  {
   "cell_type": "code",
   "execution_count": 8,
   "metadata": {},
   "outputs": [
    {
     "data": {
      "text/plain": [
       "17233"
      ]
     },
     "execution_count": 8,
     "metadata": {},
     "output_type": "execute_result"
    }
   ],
   "source": [
    "len(keywords)"
   ]
  },
  {
   "cell_type": "code",
   "execution_count": 26,
   "metadata": {},
   "outputs": [],
   "source": [
    "#keywords"
   ]
  },
  {
   "cell_type": "markdown",
   "metadata": {},
   "source": [
    "### How to create a bag of words matching records to keywords?\n",
    "\n",
    "1) Extract the text from a record\n",
    "\n",
    "2) Extract the keywords for a particular record\n",
    "\n",
    "3) Associate the text with the presence or absence of a keyword"
   ]
  },
  {
   "cell_type": "code",
   "execution_count": 27,
   "metadata": {
    "collapsed": true
   },
   "outputs": [],
   "source": [
    "keys = data['NCT01778439'].keys()"
   ]
  },
  {
   "cell_type": "code",
   "execution_count": 11,
   "metadata": {
    "collapsed": true
   },
   "outputs": [],
   "source": [
    "# get the unique keys for a single record\n",
    "#print(keys)"
   ]
  },
  {
   "cell_type": "code",
   "execution_count": 28,
   "metadata": {},
   "outputs": [
    {
     "name": "stdout",
     "output_type": "stream",
     "text": [
      "completion_date 2013-04-30\n",
      "conditions [{'clusters': ['Infectious Diseases'], 'name': 'HIV/AIDS', 'raw': ['HIV Infections'], 'slug': 'hiv-aids'}]\n",
      "description_html <p>Although highly active antiretroviral therapy (HAART) has greatly reduced HIV infection-related morbidity and mortality, individual response to therapy can be variable. Therapeutic vaccination works by augmenting virus-specific immunity and can be given with or without immunomodulatory agents or adjuvants. In conjunction with HAART, therapeutic vaccination may be a more effective treatment for the suppression of HIV-1 replication. This study will examine the safety and efficacy of giving an investigational vaccine with or without IL-12 in HIV-1 infected adults receiving HAART. This study will also test whether delivering the vaccine using EP is safe and increases the efficacy of the vaccine.</p>\n",
      "\n",
      "<p>Participation in this study will last approximately 36 weeks. Participants will be randomly assigned to one of five cohorts. Cohort 1 will receive the HIV multi-antigen plasmid DNA (HIV MAG pDNA) vaccine or placebo intramuscularly (IM) in the upper arm followed by EP. Cohorts 2 through 4 will receive the HIV MAG pDNA vaccine and sequentially increasing doses of GENEVAX IL-12 pDNA or placebo by IM/EP. Cohort 5 will receive the HIV MAG pDNA vaccine with the highest dose of IL-12 pDNA or placebo by needle and syringe in the upper arm.</p>\n",
      "\n",
      "<p>Participants receive two injections at Weeks 0, 4, and 12. Participants will complete a questionnaire that assesses the acceptability of the vaccine and remain at the clinic 30 minutes for observation after each vaccination. Participants will be contacted by telephone 2 to 3 days post-vaccination to assess vaccination-related signs and/or symptoms. All participants will be asked to record their temperatures and any symptoms they experience daily for 4 days following each vaccination on a Vaccination Report Card (VRC). All nonstudy vaccines or medications should also be recorded on the VRC. Study visits will occur at Weeks 0, 1, 2, 4, 5, 6, 8, 12, 13, 14, 16, 24, and 36. At most visits, participants will undergo a physical examination. Women of reproductive potential will also undergo pregnancy testing before receiving injections on Weeks 0, 4, and 12. Blood will be drawn at various time points to evaluate participants' health and measure immunologic markers, CD4 and CD8 T-cell counts, and cytokine levels. Blood and plasma will also be stored for future exploratory studies.</p>\n",
      "eligibility_by_age_open_to_18_and_over True\n",
      "eligibility_by_age_open_to_under_18 False\n",
      "eligibility_by_sex_all True\n",
      "eligibility_by_sex_female True\n",
      "eligibility_by_sex_male True\n",
      "eligibility_exclusion_html <ul>\n",
      "<li> Confirmed (defined as two consecutive values) CD4 T-cell count less than 200 cells/mm3\n",
      "at any time or any history or subject recollection of CD4 T-cell count less than 200\n",
      "cells/mm3 prior to screening</li>\n",
      "<li> Any active malignancy that may require chemotherapy or radiation therapy</li>\n",
      "<li> Bleeding diathesis or condition associated with prolonged bleeding time that would\n",
      "contraindicate IM injection</li>\n",
      "<li> A skin-fold measurement of the cutaneous and subcutaneous tissue for eligible\n",
      "injection sites (on the medial deltoid muscles) that exceeds 40 mm</li>\n",
      "<li> Use of immunomodulatory, cytokine, or growth stimulating factors such as systemic\n",
      "corticosteroids, cyclosporine, methotrexate, azathioprine, anti-CD25 antibody,\n",
      "granulocyte macrophage colony-stimulating factor (GM-CSF), chondrocyte\n",
      "colony-stimulating factor (C-CSF), IFN, or interleukin-2 (IL-2) (within 30 days prior\n",
      "to study entry)</li>\n",
      "<li> Pregnancy or breastfeeding</li>\n",
      "<li> Use of any prior HIV vaccine (prophylactic and/or therapeutic) within 1 year before\n",
      "study entry</li>\n",
      "<li> Use of any investigational treatment within 6 months before study entry</li>\n",
      "<li> Use of any licensed or experimental non-HIV vaccination (e.g., hepatitis B, influenza,\n",
      "pneumococcal polysaccharide) within 4 weeks prior to study entry</li>\n",
      "<li> Use of any infusion blood product or immune globulin within 3 months prior to study\n",
      "entry</li>\n",
      "<li> Known or suspected hypersensitivity to any vaccine component, including\n",
      "hypersensitivity to amide-type local anesthetics, such as lidocaine (Xylocaine),\n",
      "mepivacaine (Polocaine/Carbocaine), etidocaine (Duranest), bupivacaine (Marcaine), or\n",
      "prilocaine</li>\n",
      "<li> Active drug or alcohol use or dependence that, in the opinion of the site\n",
      "investigator, would interfere with adherence to study requirements</li>\n",
      "<li> Serious illness requiring systemic treatment and/or hospitalization within 7 days\n",
      "prior to study entry</li>\n",
      "<li> Current use of any electronic stimulation device, such as cardiac demand pacemakers,\n",
      "automatic implantable cardiac defibrillators, nerve stimulators, or deep brain\n",
      "stimulators</li>\n",
      "<li> History of cardiac arrhythmia or palpitations (e.g., supraventricular tachycardia,\n",
      "atrial fibrillation, frequent ectopy, or sinus bradycardia [i.e., &lt;50 beats per minute\n",
      "on exam]) prior to study entry (NOTE: Sinus arrhythmia is not excluded)</li>\n",
      "<li> History of syncope or fainting episode within 1 year of study entry</li>\n",
      "<li> Seizure disorder or any history of prior seizure</li>\n",
      "<li> Extensive tattoos covering the site of administration (upper left and right medial\n",
      "deltoid muscles)</li>\n",
      "<li> Presence of any surgical or traumatic metal implants at the site of administration\n",
      "(medial deltoid muscles)</li>\n",
      "<li> Any chronic inflammatory disease (e.g., ankylosing spondylitis, psoriasis,\n",
      "inflammatory bowel disease)</li>\n",
      "</ul>\n",
      "eligibility_healthy_volunteers False\n",
      "eligibility_html <p>Inclusion Criteria:</p>\n",
      "\n",
      "<ul>\n",
      "<li> HIV-1 infected</li>\n",
      "<li> Stable antiretroviral therapy (ART) for a minimum of 6 consecutive months prior to\n",
      "study entry and intention to remain on stable ART until study completion</li>\n",
      "<li> CD4 T-cell count greater than or equal to 500 cells/mm3 (within 30 days prior to study\n",
      "entry)</li>\n",
      "<li> At least two measurements of HIV-1 RNA levels less than or equal to 200 copies/mL\n",
      "(first measurement must be performed at least 6 months prior to study entry and second\n",
      "measurement must be performed between 6 months prior to study entry and at least 30\n",
      "days prior to study entry)</li>\n",
      "<li> Screening HIV-1 RNA less than 50 copies/mL (within 30 days prior to study entry)</li>\n",
      "<li> Hepatitis B surface antigen negative (within 30 days prior to study entry)</li>\n",
      "<li> Hepatitis C antibody negative or, if hepatitis C antibody positive, hepatitis C virus\n",
      "RNA negative (within 30 days prior to study entry)</li>\n",
      "<li> Certain laboratory values obtained within 30 days prior to study entry; more\n",
      "information can be found in the protocol</li>\n",
      "<li> Females of reproductive potential must have a negative urine pregnancy test within 3\n",
      "days prior to study entry</li>\n",
      "<li> All study participants participating in sexual activity that could lead to pregnancy\n",
      "must agree to use at least one of the following forms of birth control for at least 21\n",
      "days prior to study entry until the final study visit:</li>\n",
      "<li> Condoms (male or female) with or without a spermicidal agent</li>\n",
      "<li> Diaphragm or cervical cap with spermicide</li>\n",
      "<li> Intrauterine device (IUD)</li>\n",
      "<li> Hormone-based contraceptive</li>\n",
      "<li> Females who are not of reproductive potential are eligible without requiring the use\n",
      "of a contraceptive</li>\n",
      "<li> Ability and willingness of subject to provide written informed consent</li>\n",
      "<li> Collection of a pre-entry PBMC specimen for immunologic assays and entered into the\n",
      "Laboratory Data Management System (LDMS)</li>\n",
      "</ul>\n",
      "\n",
      "\n",
      "<p>Exclusion Criteria:</p>\n",
      "\n",
      "<ul>\n",
      "<li> Confirmed (defined as two consecutive values) CD4 T-cell count less than 200 cells/mm3\n",
      "at any time or any history or subject recollection of CD4 T-cell count less than 200\n",
      "cells/mm3 prior to screening</li>\n",
      "<li> Any active malignancy that may require chemotherapy or radiation therapy</li>\n",
      "<li> Bleeding diathesis or condition associated with prolonged bleeding time that would\n",
      "contraindicate IM injection</li>\n",
      "<li> A skin-fold measurement of the cutaneous and subcutaneous tissue for eligible\n",
      "injection sites (on the medial deltoid muscles) that exceeds 40 mm</li>\n",
      "<li> Use of immunomodulatory, cytokine, or growth stimulating factors such as systemic\n",
      "corticosteroids, cyclosporine, methotrexate, azathioprine, anti-CD25 antibody,\n",
      "granulocyte macrophage colony-stimulating factor (GM-CSF), chondrocyte\n",
      "colony-stimulating factor (C-CSF), IFN, or interleukin-2 (IL-2) (within 30 days prior\n",
      "to study entry)</li>\n",
      "<li> Pregnancy or breastfeeding</li>\n",
      "<li> Use of any prior HIV vaccine (prophylactic and/or therapeutic) within 1 year before\n",
      "study entry</li>\n",
      "<li> Use of any investigational treatment within 6 months before study entry</li>\n",
      "<li> Use of any licensed or experimental non-HIV vaccination (e.g., hepatitis B, influenza,\n",
      "pneumococcal polysaccharide) within 4 weeks prior to study entry</li>\n",
      "<li> Use of any infusion blood product or immune globulin within 3 months prior to study\n",
      "entry</li>\n",
      "<li> Known or suspected hypersensitivity to any vaccine component, including\n",
      "hypersensitivity to amide-type local anesthetics, such as lidocaine (Xylocaine),\n",
      "mepivacaine (Polocaine/Carbocaine), etidocaine (Duranest), bupivacaine (Marcaine), or\n",
      "prilocaine</li>\n",
      "<li> Active drug or alcohol use or dependence that, in the opinion of the site\n",
      "investigator, would interfere with adherence to study requirements</li>\n",
      "<li> Serious illness requiring systemic treatment and/or hospitalization within 7 days\n",
      "prior to study entry</li>\n",
      "<li> Current use of any electronic stimulation device, such as cardiac demand pacemakers,\n",
      "automatic implantable cardiac defibrillators, nerve stimulators, or deep brain\n",
      "stimulators</li>\n",
      "<li> History of cardiac arrhythmia or palpitations (e.g., supraventricular tachycardia,\n",
      "atrial fibrillation, frequent ectopy, or sinus bradycardia [i.e., &lt;50 beats per minute\n",
      "on exam]) prior to study entry (NOTE: Sinus arrhythmia is not excluded)</li>\n",
      "<li> History of syncope or fainting episode within 1 year of study entry</li>\n",
      "<li> Seizure disorder or any history of prior seizure</li>\n",
      "<li> Extensive tattoos covering the site of administration (upper left and right medial\n",
      "deltoid muscles)</li>\n",
      "<li> Presence of any surgical or traumatic metal implants at the site of administration\n",
      "(medial deltoid muscles)</li>\n",
      "<li> Any chronic inflammatory disease (e.g., ankylosing spondylitis, psoriasis,\n",
      "inflammatory bowel disease)</li>\n",
      "</ul>\n",
      "eligibility_inclusion_html <ul>\n",
      "<li> HIV-1 infected</li>\n",
      "<li> Stable antiretroviral therapy (ART) for a minimum of 6 consecutive months prior to\n",
      "study entry and intention to remain on stable ART until study completion</li>\n",
      "<li> CD4 T-cell count greater than or equal to 500 cells/mm3 (within 30 days prior to study\n",
      "entry)</li>\n",
      "<li> At least two measurements of HIV-1 RNA levels less than or equal to 200 copies/mL\n",
      "(first measurement must be performed at least 6 months prior to study entry and second\n",
      "measurement must be performed between 6 months prior to study entry and at least 30\n",
      "days prior to study entry)</li>\n",
      "<li> Screening HIV-1 RNA less than 50 copies/mL (within 30 days prior to study entry)</li>\n",
      "<li> Hepatitis B surface antigen negative (within 30 days prior to study entry)</li>\n",
      "<li> Hepatitis C antibody negative or, if hepatitis C antibody positive, hepatitis C virus\n",
      "RNA negative (within 30 days prior to study entry)</li>\n",
      "<li> Certain laboratory values obtained within 30 days prior to study entry; more\n",
      "information can be found in the protocol</li>\n",
      "<li> Females of reproductive potential must have a negative urine pregnancy test within 3\n",
      "days prior to study entry</li>\n",
      "<li> All study participants participating in sexual activity that could lead to pregnancy\n",
      "must agree to use at least one of the following forms of birth control for at least 21\n",
      "days prior to study entry until the final study visit:</li>\n",
      "<li> Condoms (male or female) with or without a spermicidal agent</li>\n",
      "<li> Diaphragm or cervical cap with spermicide</li>\n",
      "<li> Intrauterine device (IUD)</li>\n",
      "<li> Hormone-based contraceptive</li>\n",
      "<li> Females who are not of reproductive potential are eligible without requiring the use\n",
      "of a contraceptive</li>\n",
      "<li> Ability and willingness of subject to provide written informed consent</li>\n",
      "<li> Collection of a pre-entry PBMC specimen for immunologic assays and entered into the\n",
      "Laboratory Data Management System (LDMS)</li>\n",
      "</ul>\n",
      "eligibility_summary_short people ages 18-55\n",
      "eligibility_tags []\n",
      "estimated_completion_date None\n",
      "id NCT01266616\n",
      "institution_names []\n",
      "institutional_pis []\n",
      "institutions []\n",
      "is_contactable False\n",
      "is_contactable_matches_studywide_status True\n",
      "is_joinable False\n",
      "is_joinable_matches_studywide_status True\n",
      "is_visible False\n",
      "is_visible_matches_studywide_status True\n",
      "json_ld [{\"@context\":\"http://schema.org/\",\"@type\":\"MedicalTrial\",\"alternateName\":\"A Phase I Randomized, Partially Double-Blind, Placebo-Controlled, Dose-Escalation Study to Evaluate the Safety and Immunogenicity of a Cytokine Enhanced HIV-1 Multi-Antigen (HIV MAG) pDNA Vaccine Delivered Intramuscularly Followed by in Vivo Electroporation (IM/EP) or Intramuscularly in HIV-1 Infected Adults Receiving ART\",\"code\":{\"@type\":\"MedicalCode\",\"codeValue\":\"NCT01266616\",\"codingSystem\":\"ClinicalTrials.gov\"},\"healthCondition\":[\"HIV/AIDS\"],\"name\":\"Safety of and Immune Response to an Investigational HIV-1 Vaccine With or Without Interleukin-12 (IL-12) in HIV-1 Infected Adults\",\"phase\":\"1\",\"population\":\"people ages 18-55\",\"sameAs\":\"https://clinicaltrials.gov/ct2/show/NCT01266616\",\"sponsor\":[{\"@type\":\"Organization\",\"name\":\"National Institute of Allergy and Infectious Diseases (NIAID)\"}],\"status\":\"http://schema.org/Completed\",\"studyLocation\":[{\"@type\":\"AdministrativeArea\",\"address\":{\"@type\":\"PostalAddress\",\"addressCountry\":\"United States\",\"addressLocality\":\"San Francisco\",\"addressRegion\":\"California\",\"postalCode\":\"94110\"},\"name\":\"Ucsf Hiv/Aids Crs\"}],\"studySubject\":[{\"@type\":\"MedicalEntity\",\"name\":\"HIV Infections\"},{\"@type\":\"MedicalEntity\",\"name\":\"Interleukin-12\"},{\"@type\":\"MedicalEntity\",\"name\":\"Electroporation\"},{\"@type\":\"MedicalEntity\",\"name\":\"HIV Therapeutic Vaccine\"},{\"@type\":\"MedicalEntity\",\"name\":\"Vaccines\"},{\"@type\":\"MedicalEntity\",\"name\":\"Profectus HIV MAG pDNA vaccine\"},{\"@type\":\"MedicalEntity\",\"name\":\"IL-12\"}],\"trialDesign\":[\"http://schema.org/MultiCenterTrial\"]},{\"@context\":\"http://schema.org/\",\"@type\":\"Place\",\"address\":{\"@type\":\"PostalAddress\",\"addressCountry\":\"United States\",\"addressLocality\":\"San Francisco\",\"addressRegion\":\"California\",\"postalCode\":\"94110\"},\"name\":\"Ucsf Hiv/Aids Crs\"}]\n",
      "keywords ['HIV Infections', 'Interleukin-12', 'Electroporation', 'HIV Therapeutic Vaccine', 'Vaccines', 'Profectus HIV MAG pDNA vaccine', 'IL-12']\n",
      "last_changed_or_verified_date 2015-11-24\n",
      "links []\n",
      "locations [{'facility_address_city': 'San Francisco', 'facility_address_coordinates': {'lat': '37.750021', 'lon': '-122.415201'}, 'facility_address_country': 'United States', 'facility_address_state': 'California', 'facility_address_zip': '94110', 'facility_name': 'Ucsf Hiv/Aids Crs', 'institutions': [], 'is_institutional_location': True, 'is_joinable': None}, {'facility_address_city': 'Palo Alto', 'facility_address_coordinates': {'lat': '37.374702', 'lon': '-122.181696'}, 'facility_address_country': 'United States', 'facility_address_state': 'California', 'facility_address_zip': '94304-5350', 'facility_name': 'Stanford AIDS Clinical Trials Unit CRS', 'institutions': [], 'is_institutional_location': False, 'is_joinable': None}, {'facility_address_city': 'Los Angeles', 'facility_address_coordinates': {'lat': '34.051819', 'lon': '-118.383582'}, 'facility_address_country': 'United States', 'facility_address_state': 'California', 'facility_address_zip': '90035', 'facility_name': 'UCLA CARE Center CRS', 'institutions': [], 'is_institutional_location': False, 'is_joinable': None}, {'facility_address_city': 'Aurora', 'facility_address_coordinates': {'lat': '39.747872', 'lon': '-104.838305'}, 'facility_address_country': 'United States', 'facility_address_state': 'Colorado', 'facility_address_zip': '80045', 'facility_name': 'University of Colorado Hospital CRS', 'institutions': [], 'is_institutional_location': False, 'is_joinable': None}, {'facility_address_city': 'Houston', 'facility_address_coordinates': {'lat': '29.706787', 'lon': '-95.401748'}, 'facility_address_country': 'United States', 'facility_address_state': 'Texas', 'facility_address_zip': '77030', 'facility_name': 'Houston AIDS Research Team CRS', 'institutions': [], 'is_institutional_location': False, 'is_joinable': None}, {'facility_address_city': 'St. Louis', 'facility_address_coordinates': {'lat': '38.625796', 'lon': '-90.266998'}, 'facility_address_country': 'United States', 'facility_address_state': 'Missouri', 'facility_address_zip': '63110', 'facility_name': 'Washington University Therapeutics (WT) CRS', 'institutions': [], 'is_institutional_location': False, 'is_joinable': None}, {'facility_address_city': 'Cincinnati', 'facility_address_coordinates': {'lat': '39.127376', 'lon': '-84.513064'}, 'facility_address_country': 'United States', 'facility_address_state': 'Ohio', 'facility_address_zip': '45219', 'facility_name': 'Cincinnati CRS', 'institutions': [], 'is_institutional_location': False, 'is_joinable': None}, {'facility_address_city': 'Pittsburgh', 'facility_address_coordinates': {'lat': '40.444042', 'lon': '-79.955249'}, 'facility_address_country': 'United States', 'facility_address_state': 'Pennsylvania', 'facility_address_zip': '15213-2582', 'facility_name': 'University of Pittsburgh CRS', 'institutions': [], 'is_institutional_location': False, 'is_joinable': None}, {'facility_address_city': 'Rochester', 'facility_address_coordinates': {'lat': '43.15478', 'lon': '-77.61556'}, 'facility_address_country': 'United States', 'facility_address_state': 'New York', 'facility_address_zip': '14642', 'facility_name': 'Univ. of Rochester ACTG CRS', 'institutions': [], 'is_institutional_location': False, 'is_joinable': None}, {'facility_address_city': 'Rochester', 'facility_address_coordinates': {'lat': '43.150776', 'lon': '-77.586434'}, 'facility_address_country': 'United States', 'facility_address_state': 'New York', 'facility_address_zip': '14607', 'facility_name': 'Trillium Health ACTG CRS', 'institutions': [], 'is_institutional_location': False, 'is_joinable': None}, {'facility_address_city': 'Philadelphia', 'facility_address_coordinates': {'lat': '39.958518', 'lon': '-75.198856'}, 'facility_address_country': 'United States', 'facility_address_state': 'Pennsylvania', 'facility_address_zip': '19104', 'facility_name': 'Penn Therapeutics Crs', 'institutions': [], 'is_institutional_location': False, 'is_joinable': None}, {'facility_address_city': 'Boston', 'facility_address_coordinates': {'lat': '42.337105', 'lon': '-71.105696'}, 'facility_address_country': 'United States', 'facility_address_state': 'Massachusetts', 'facility_address_zip': '02115', 'facility_name': \"Brigham and Women's Hospital Therapeutics Clinical Research Site (BWH TCRS) CRS\", 'institutions': [], 'is_institutional_location': False, 'is_joinable': None}, {'facility_address_city': 'Boston', 'facility_address_coordinates': {'lat': '42.363174', 'lon': '-71.068646'}, 'facility_address_country': 'United States', 'facility_address_state': 'Massachusetts', 'facility_address_zip': '02114', 'facility_name': 'Massachusetts General Hospital Clinical Research Site (MGH CRS) CRS', 'institutions': [], 'is_institutional_location': False, 'is_joinable': None}]\n",
      "nct_number NCT01266616\n",
      "phase 1\n",
      "phase_1 True\n",
      "phase_2 False\n",
      "phase_3 False\n",
      "phase_4 False\n",
      "phase_unspecified False\n",
      "recruitment_status Completed\n",
      "recruitment_status_schema_dot_org Completed\n",
      "source National Institute of Allergy and Infectious Diseases (NIAID)\n",
      "sponsor National Institute of Allergy and Infectious Diseases (NIAID)\n",
      "start_date 2011-03-01\n",
      "study_type Interventional\n",
      "summary Therapeutic HIV vaccines are designed to control HIV infection by boosting the body's natural immune response. There are currently no FDA-approved therapeutic HIV vaccines. This study will test whether giving an HIV-1 vaccine together with or without interleukin 12 (IL-12) is safe and effective. This study will also test a new way of giving the vaccine called electroporation (EP).\n",
      "summary_html <p>Therapeutic HIV vaccines are designed to control HIV infection by boosting the body's natural immune response. There are currently no FDA-approved therapeutic HIV vaccines. This study will test whether giving an HIV-1 vaccine together with or without interleukin 12 (IL-12) is safe and effective. This study will also test a new way of giving the vaccine called electroporation (EP).</p>\n",
      "title_brief Safety of and Immune Response to an Investigational HIV-1 Vaccine With or Without Interleukin-12 (IL-12) in HIV-1 Infected Adults\n",
      "title_official A Phase I Randomized, Partially Double-Blind, Placebo-Controlled, Dose-Escalation Study to Evaluate the Safety and Immunogenicity of a Cytokine Enhanced HIV-1 Multi-Antigen (HIV MAG) pDNA Vaccine Delivered Intramuscularly Followed by in Vivo Electroporation (IM/EP) or Intramuscularly in HIV-1 Infected Adults Receiving ART\n",
      "title_tagline None\n",
      "visits_description None\n"
     ]
    }
   ],
   "source": [
    "# get all the data fields\n",
    "record = data['NCT01266616']\n",
    "\n",
    "for d in record:\n",
    "    print(d, record[d])"
   ]
  },
  {
   "cell_type": "markdown",
   "metadata": {},
   "source": [
    "### Extract text \n",
    "\n",
    "Ignore everything that is not a text field, and strip all non alphanumeric characters"
   ]
  },
  {
   "cell_type": "code",
   "execution_count": 30,
   "metadata": {},
   "outputs": [
    {
     "name": "stdout",
     "output_type": "stream",
     "text": [
      "2013 04 30 Although highly active antiretroviral therapy HAART has greatly reduced HIV infection related morbidity and mortality individual response to therapy can be variable Therapeutic vaccination works by augmenting virus specific immunity and can be given with or without immunomodulatory agents or adjuvants In conjunction with HAART therapeutic vaccination may be a more effective treatment for the suppression of HIV 1 replication This study will examine the safety and efficacy of giving an investigational vaccine with or without IL 12 in HIV 1 infected adults receiving HAART This study will also test whether delivering the vaccine using EP is safe and increases the efficacy of the vaccine Participation in this study will last approximately 36 weeks Participants will be randomly assigned to one of five cohorts Cohort 1 will receive the HIV multi antigen plasmid DNA HIV MAG pDNA vaccine or placebo intramuscularly IM in the upper arm followed by EP Cohorts 2 through 4 will receive the HIV MAG pDNA vaccine and sequentially increasing doses of GENEVAX IL 12 pDNA or placebo by IM EP Cohort 5 will receive the HIV MAG pDNA vaccine with the highest dose of IL 12 pDNA or placebo by needle and syringe in the upper arm Participants receive two injections at Weeks 0 4 and 12 Participants will complete a questionnaire that assesses the acceptability of the vaccine and remain at the clinic 30 minutes for observation after each vaccination Participants will be contacted by telephone 2 to 3 days post vaccination to assess vaccination related signs and or symptoms All participants will be asked to record their temperatures and any symptoms they experience daily for 4 days following each vaccination on a Vaccination Report Card VRC All nonstudy vaccines or medications should also be recorded on the VRC Study visits will occur at Weeks 0 1 2 4 5 6 8 12 13 14 16 24 and 36 At most visits participants will undergo a physical examination Women of reproductive potential will also undergo pregnancy testing before receiving injections on Weeks 0 4 and 12 Blood will be drawn at various time points to evaluate participants health and measure immunologic markers CD4 and CD8 T cell counts and cytokine levels Blood and plasma will also be stored for future exploratory studies True False True True True Confirmed defined as two consecutive values CD4 T cell count less than 200 cells mm3 at any time or any history or subject recollection of CD4 T cell count less than 200 cells mm3 prior to screening Any active malignancy that may require chemotherapy or radiation therapy Bleeding diathesis or condition associated with prolonged bleeding time that would contraindicate IM injection A skin fold measurement of the cutaneous and subcutaneous tissue for eligible injection sites on the medial deltoid muscles that exceeds 40 mm Use of immunomodulatory cytokine or growth stimulating factors such as systemic corticosteroids cyclosporine methotrexate azathioprine anti CD25 antibody granulocyte macrophage colony stimulating factor GM CSF chondrocyte colony stimulating factor C CSF IFN or interleukin 2 IL 2 within 30 days prior to study entry Pregnancy or breastfeeding Use of any prior HIV vaccine prophylactic and or therapeutic within 1 year before study entry Use of any investigational treatment within 6 months before study entry Use of any licensed or experimental non HIV vaccination e g hepatitis B influenza pneumococcal polysaccharide within 4 weeks prior to study entry Use of any infusion blood product or immune globulin within 3 months prior to study entry Known or suspected hypersensitivity to any vaccine component including hypersensitivity to amide type local anesthetics such as lidocaine Xylocaine mepivacaine Polocaine Carbocaine etidocaine Duranest bupivacaine Marcaine or prilocaine Active drug or alcohol use or dependence that in the opinion of the site investigator would interfere with adherence to study requirements Serious illness requiring systemic treatment and or hospitalization within 7 days prior to study entry Current use of any electronic stimulation device such as cardiac demand pacemakers automatic implantable cardiac defibrillators nerve stimulators or deep brain stimulators History of cardiac arrhythmia or palpitations e g supraventricular tachycardia atrial fibrillation frequent ectopy or sinus bradycardia i e lt 50 beats per minute on exam prior to study entry NOTE Sinus arrhythmia is not excluded History of syncope or fainting episode within 1 year of study entry Seizure disorder or any history of prior seizure Extensive tattoos covering the site of administration upper left and right medial deltoid muscles Presence of any surgical or traumatic metal implants at the site of administration medial deltoid muscles Any chronic inflammatory disease e g ankylosing spondylitis psoriasis inflammatory bowel disease False Inclusion Criteria HIV 1 infected Stable antiretroviral therapy ART for a minimum of 6 consecutive months prior to study entry and intention to remain on stable ART until study completion CD4 T cell count greater than or equal to 500 cells mm3 within 30 days prior to study entry At least two measurements of HIV 1 RNA levels less than or equal to 200 copies mL first measurement must be performed at least 6 months prior to study entry and second measurement must be performed between 6 months prior to study entry and at least 30 days prior to study entry Screening HIV 1 RNA less than 50 copies mL within 30 days prior to study entry Hepatitis B surface antigen negative within 30 days prior to study entry Hepatitis C antibody negative or if hepatitis C antibody positive hepatitis C virus RNA negative within 30 days prior to study entry Certain laboratory values obtained within 30 days prior to study entry more information can be found in the protocol Females of reproductive potential must have a negative urine pregnancy test within 3 days prior to study entry All study participants participating in sexual activity that could lead to pregnancy must agree to use at least one of the following forms of birth control for at least 21 days prior to study entry until the final study visit Condoms male or female with or without a spermicidal agent Diaphragm or cervical cap with spermicide Intrauterine device IUD Hormone based contraceptive Females who are not of reproductive potential are eligible without requiring the use of a contraceptive Ability and willingness of subject to provide written informed consent Collection of a pre entry PBMC specimen for immunologic assays and entered into the Laboratory Data Management System LDMS Exclusion Criteria Confirmed defined as two consecutive values CD4 T cell count less than 200 cells mm3 at any time or any history or subject recollection of CD4 T cell count less than 200 cells mm3 prior to screening Any active malignancy that may require chemotherapy or radiation therapy Bleeding diathesis or condition associated with prolonged bleeding time that would contraindicate IM injection A skin fold measurement of the cutaneous and subcutaneous tissue for eligible injection sites on the medial deltoid muscles that exceeds 40 mm Use of immunomodulatory cytokine or growth stimulating factors such as systemic corticosteroids cyclosporine methotrexate azathioprine anti CD25 antibody granulocyte macrophage colony stimulating factor GM CSF chondrocyte colony stimulating factor C CSF IFN or interleukin 2 IL 2 within 30 days prior to study entry Pregnancy or breastfeeding Use of any prior HIV vaccine prophylactic and or therapeutic within 1 year before study entry Use of any investigational treatment within 6 months before study entry Use of any licensed or experimental non HIV vaccination e g hepatitis B influenza pneumococcal polysaccharide within 4 weeks prior to study entry Use of any infusion blood product or immune globulin within 3 months prior to study entry Known or suspected hypersensitivity to any vaccine component including hypersensitivity to amide type local anesthetics such as lidocaine Xylocaine mepivacaine Polocaine Carbocaine etidocaine Duranest bupivacaine Marcaine or prilocaine Active drug or alcohol use or dependence that in the opinion of the site investigator would interfere with adherence to study requirements Serious illness requiring systemic treatment and or hospitalization within 7 days prior to study entry Current use of any electronic stimulation device such as cardiac demand pacemakers automatic implantable cardiac defibrillators nerve stimulators or deep brain stimulators History of cardiac arrhythmia or palpitations e g supraventricular tachycardia atrial fibrillation frequent ectopy or sinus bradycardia i e lt 50 beats per minute on exam prior to study entry NOTE Sinus arrhythmia is not excluded History of syncope or fainting episode within 1 year of study entry Seizure disorder or any history of prior seizure Extensive tattoos covering the site of administration upper left and right medial deltoid muscles Presence of any surgical or traumatic metal implants at the site of administration medial deltoid muscles Any chronic inflammatory disease e g ankylosing spondylitis psoriasis inflammatory bowel disease HIV 1 infected Stable antiretroviral therapy ART for a minimum of 6 consecutive months prior to study entry and intention to remain on stable ART until study completion CD4 T cell count greater than or equal to 500 cells mm3 within 30 days prior to study entry At least two measurements of HIV 1 RNA levels less than or equal to 200 copies mL first measurement must be performed at least 6 months prior to study entry and second measurement must be performed between 6 months prior to study entry and at least 30 days prior to study entry Screening HIV 1 RNA less than 50 copies mL within 30 days prior to study entry Hepatitis B surface antigen negative within 30 days prior to study entry Hepatitis C antibody negative or if hepatitis C antibody positive hepatitis C virus RNA negative within 30 days prior to study entry Certain laboratory values obtained within 30 days prior to study entry more information can be found in the protocol Females of reproductive potential must have a negative urine pregnancy test within 3 days prior to study entry All study participants participating in sexual activity that could lead to pregnancy must agree to use at least one of the following forms of birth control for at least 21 days prior to study entry until the final study visit Condoms male or female with or without a spermicidal agent Diaphragm or cervical cap with spermicide Intrauterine device IUD Hormone based contraceptive Females who are not of reproductive potential are eligible without requiring the use of a contraceptive Ability and willingness of subject to provide written informed consent Collection of a pre entry PBMC specimen for immunologic assays and entered into the Laboratory Data Management System LDMS people ages 18 55 NCT01266616 False True False True False True context http schema org type MedicalTrial alternateName A Phase I Randomized Partially Double Blind Placebo Controlled Dose Escalation Study to Evaluate the Safety and Immunogenicity of a Cytokine Enhanced HIV 1 Multi Antigen HIV MAG pDNA Vaccine Delivered Intramuscularly Followed by in Vivo Electroporation IM EP or Intramuscularly in HIV 1 Infected Adults Receiving ART code type MedicalCode codeValue NCT01266616 codingSystem ClinicalTrials gov healthCondition HIV AIDS name Safety of and Immune Response to an Investigational HIV 1 Vaccine With or Without Interleukin 12 IL 12 in HIV 1 Infected Adults phase 1 population people ages 18 55 sameAs https clinicaltrials gov ct2 show NCT01266616 sponsor type Organization name National Institute of Allergy and Infectious Diseases NIAID status http schema org Completed studyLocation type AdministrativeArea address type PostalAddress addressCountry United States addressLocality San Francisco addressRegion California postalCode 94110 name Ucsf Hiv Aids Crs studySubject type MedicalEntity name HIV Infections type MedicalEntity name Interleukin 12 type MedicalEntity name Electroporation type MedicalEntity name HIV Therapeutic Vaccine type MedicalEntity name Vaccines type MedicalEntity name Profectus HIV MAG pDNA vaccine type MedicalEntity name IL 12 trialDesign http schema org MultiCenterTrial context http schema org type Place address type PostalAddress addressCountry United States addressLocality San Francisco addressRegion California postalCode 94110 name Ucsf Hiv Aids Crs 2015 11 24 NCT01266616 1 True False False False False Completed Completed National Institute of Allergy and Infectious Diseases NIAID National Institute of Allergy and Infectious Diseases NIAID 2011 03 01 Interventional Therapeutic HIV vaccines are designed to control HIV infection by boosting the body s natural immune response There are currently no FDA approved therapeutic HIV vaccines This study will test whether giving an HIV 1 vaccine together with or without interleukin 12 IL 12 is safe and effective This study will also test a new way of giving the vaccine called electroporation EP Therapeutic HIV vaccines are designed to control HIV infection by boosting the body s natural immune response There are currently no FDA approved therapeutic HIV vaccines This study will test whether giving an HIV 1 vaccine together with or without interleukin 12 IL 12 is safe and effective This study will also test a new way of giving the vaccine called electroporation EP Safety of and Immune Response to an Investigational HIV 1 Vaccine With or Without Interleukin 12 IL 12 in HIV 1 Infected Adults A Phase I Randomized Partially Double Blind Placebo Controlled Dose Escalation Study to Evaluate the Safety and Immunogenicity of a Cytokine Enhanced HIV 1 Multi Antigen HIV MAG pDNA Vaccine Delivered Intramuscularly Followed by in Vivo Electroporation IM EP or Intramuscularly in HIV 1 Infected Adults Receiving ART\n"
     ]
    }
   ],
   "source": [
    "data_text = \"\"\n",
    "for d in record:\n",
    "    if type(record[d]) is list or record[d] is None:\n",
    "        continue\n",
    "    else:\n",
    "        data_text += str(record[d]) + ' '\n",
    "data_text =  re.sub('<[^<]+?>', '', data_text)\n",
    "data_text = re.sub(\"[^a-zA-Z0-9]\",\" \", data_text)\n",
    "data_text = ' '.join(data_text.split())\n",
    "\n",
    "print(data_text)"
   ]
  },
  {
   "cell_type": "markdown",
   "metadata": {},
   "source": [
    "### Extract keywords\n",
    "\n",
    "Strip out non alphanumeric keywords, and replace spaces with underscores\n",
    "This will help reduce the number of duplicates\n",
    "(though it will also create a potential mapping problem if we want to get back to the original names!)"
   ]
  },
  {
   "cell_type": "code",
   "execution_count": 29,
   "metadata": {},
   "outputs": [
    {
     "name": "stdout",
     "output_type": "stream",
     "text": [
      "['hiv_infections', 'interleukin_12', 'electroporation', 'hiv_therapeutic_vaccine', 'vaccines', 'profectus_hiv_mag_pdna_vaccine', 'il_12']\n"
     ]
    }
   ],
   "source": [
    "record_keywords = []\n",
    "for k in record['keywords']:\n",
    "    word = re.sub(\"[^a-zA-Z0-9/s]\",\" \", k).strip().lower()\n",
    "    word = word.replace(\" \", \"_\")\n",
    "    record_keywords.append(word)\n",
    "print(record_keywords)"
   ]
  },
  {
   "cell_type": "code",
   "execution_count": null,
   "metadata": {
    "collapsed": true
   },
   "outputs": [],
   "source": []
  }
 ],
 "metadata": {
  "kernelspec": {
   "display_name": "Python 3",
   "language": "python",
   "name": "python3"
  },
  "language_info": {
   "codemirror_mode": {
    "name": "ipython",
    "version": 3
   },
   "file_extension": ".py",
   "mimetype": "text/x-python",
   "name": "python",
   "nbconvert_exporter": "python",
   "pygments_lexer": "ipython3",
   "version": "3.6.3"
  }
 },
 "nbformat": 4,
 "nbformat_minor": 2
}
