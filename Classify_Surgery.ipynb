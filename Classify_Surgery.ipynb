{
 "cells": [
  {
   "cell_type": "code",
   "execution_count": 67,
   "metadata": {
    "collapsed": true
   },
   "outputs": [],
   "source": [
    "import json\n",
    "import re\n",
    "import pandas as pd\n",
    "from sklearn.feature_extraction.text import CountVectorizer\n",
    "from sklearn.linear_model import LogisticRegression\n",
    "#from sklearn.naive_bayes import MultinomialNB\n",
    "#from sklearn.neural_network import MLPClassifier\n"
   ]
  },
  {
   "cell_type": "code",
   "execution_count": 68,
   "metadata": {
    "collapsed": true
   },
   "outputs": [],
   "source": [
    "f = open(\"__data_export.json\")\n",
    "data = json.load(f)"
   ]
  },
  {
   "cell_type": "markdown",
   "metadata": {},
   "source": [
    "#### data and category\n",
    "\n",
    "We create two lists - one to hold the text, and the other to hold a value representing which category it belongs in.\n",
    "\n",
    "0: Not tagged with surgery keyword\n",
    "\n",
    "1: Tagged with the surgery keyword\n"
   ]
  },
  {
   "cell_type": "code",
   "execution_count": 69,
   "metadata": {
    "collapsed": true
   },
   "outputs": [],
   "source": [
    "is_surgery = []\n",
    "trial_text = []\n",
    "\n",
    "for d in data.keys():\n",
    "        if 'surgery' in data[d]['keywords']:\n",
    "            is_surgery.append(1)\n",
    "        else:\n",
    "            is_surgery.append(0)\n",
    "        data_text = \"\"\n",
    "        for k in data[d].keys():\n",
    "            if type(data[d][k]) is list or data[d][k] is None:\n",
    "                continue\n",
    "            else:\n",
    "                data_text += str(data[d][k]) + ' '\n",
    "        data_text =  re.sub('<[^<]+?>', '', data_text)\n",
    "        data_text = re.sub(\"[^a-zA-Z0-9]\",\" \", data_text)\n",
    "        data_text = ' '.join(data_text.split())\n",
    "        trial_text.append(data_text)"
   ]
  },
  {
   "cell_type": "markdown",
   "metadata": {},
   "source": [
    "#### visualize in a data frame"
   ]
  },
  {
   "cell_type": "code",
   "execution_count": 70,
   "metadata": {
    "collapsed": true
   },
   "outputs": [],
   "source": [
    "df = pd.DataFrame({'trial_text': trial_text, 'is_surgery': is_surgery})"
   ]
  },
  {
   "cell_type": "code",
   "execution_count": 72,
   "metadata": {},
   "outputs": [],
   "source": [
    "#notice that we are matching on very few\n",
    "#df"
   ]
  },
  {
   "cell_type": "code",
   "execution_count": 74,
   "metadata": {},
   "outputs": [],
   "source": [
    "# we can sort\n",
    "#df.sort_values(by=['is_surgery'], ascending=False)"
   ]
  },
  {
   "cell_type": "code",
   "execution_count": null,
   "metadata": {
    "collapsed": true
   },
   "outputs": [],
   "source": [
    "# let's take a very few to train a model"
   ]
  },
  {
   "cell_type": "code",
   "execution_count": 75,
   "metadata": {
    "collapsed": true
   },
   "outputs": [],
   "source": [
    "train_set = df.sort_values(by=['is_surgery'], ascending=False).head(24)"
   ]
  },
  {
   "cell_type": "code",
   "execution_count": 76,
   "metadata": {},
   "outputs": [
    {
     "data": {
      "text/html": [
       "<div>\n",
       "<style scoped>\n",
       "    .dataframe tbody tr th:only-of-type {\n",
       "        vertical-align: middle;\n",
       "    }\n",
       "\n",
       "    .dataframe tbody tr th {\n",
       "        vertical-align: top;\n",
       "    }\n",
       "\n",
       "    .dataframe thead th {\n",
       "        text-align: right;\n",
       "    }\n",
       "</style>\n",
       "<table border=\"1\" class=\"dataframe\">\n",
       "  <thead>\n",
       "    <tr style=\"text-align: right;\">\n",
       "      <th></th>\n",
       "      <th>is_surgery</th>\n",
       "      <th>trial_text</th>\n",
       "    </tr>\n",
       "  </thead>\n",
       "  <tbody>\n",
       "    <tr>\n",
       "      <th>947</th>\n",
       "      <td>1</td>\n",
       "      <td>This is non blinded randomized controlled tria...</td>\n",
       "    </tr>\n",
       "    <tr>\n",
       "      <th>882</th>\n",
       "      <td>1</td>\n",
       "      <td>2007 07 31 OBJECTIVES Determine the concentrat...</td>\n",
       "    </tr>\n",
       "    <tr>\n",
       "      <th>202</th>\n",
       "      <td>1</td>\n",
       "      <td>2004 04 30 OBJECTIVES Compare overall survival...</td>\n",
       "    </tr>\n",
       "    <tr>\n",
       "      <th>3721</th>\n",
       "      <td>1</td>\n",
       "      <td>True False True True True Veterans will be exc...</td>\n",
       "    </tr>\n",
       "    <tr>\n",
       "      <th>4185</th>\n",
       "      <td>1</td>\n",
       "      <td>2007 03 31 PRECISE is a Phase III clinical tri...</td>\n",
       "    </tr>\n",
       "    <tr>\n",
       "      <th>122</th>\n",
       "      <td>1</td>\n",
       "      <td>OBJECTIVES Determine the overall survival of p...</td>\n",
       "    </tr>\n",
       "    <tr>\n",
       "      <th>1285</th>\n",
       "      <td>1</td>\n",
       "      <td>2014 10 31 OBJECTIVES Compare the overall surv...</td>\n",
       "    </tr>\n",
       "    <tr>\n",
       "      <th>1719</th>\n",
       "      <td>1</td>\n",
       "      <td>OUTLINE This is a multicenter phase II III stu...</td>\n",
       "    </tr>\n",
       "    <tr>\n",
       "      <th>2720</th>\n",
       "      <td>1</td>\n",
       "      <td>This is a Phase I clinical trial of experiment...</td>\n",
       "    </tr>\n",
       "    <tr>\n",
       "      <th>3841</th>\n",
       "      <td>1</td>\n",
       "      <td>2011 10 31 OBJECTIVES Determine the relationsh...</td>\n",
       "    </tr>\n",
       "    <tr>\n",
       "      <th>116</th>\n",
       "      <td>1</td>\n",
       "      <td>2007 02 28 OBJECTIVES I Compare the overall su...</td>\n",
       "    </tr>\n",
       "    <tr>\n",
       "      <th>2077</th>\n",
       "      <td>1</td>\n",
       "      <td>2014 07 31 Postoperative delirium is a common ...</td>\n",
       "    </tr>\n",
       "    <tr>\n",
       "      <th>3094</th>\n",
       "      <td>0</td>\n",
       "      <td>2017 03 06 This is a double blind randomized p...</td>\n",
       "    </tr>\n",
       "    <tr>\n",
       "      <th>3101</th>\n",
       "      <td>0</td>\n",
       "      <td>Recruitment Screening Tool Eligible homeless i...</td>\n",
       "    </tr>\n",
       "    <tr>\n",
       "      <th>3096</th>\n",
       "      <td>0</td>\n",
       "      <td>2014 06 30 True False True True True Undocumen...</td>\n",
       "    </tr>\n",
       "    <tr>\n",
       "      <th>3097</th>\n",
       "      <td>0</td>\n",
       "      <td>2006 10 31 True False True True True Patients ...</td>\n",
       "    </tr>\n",
       "    <tr>\n",
       "      <th>3098</th>\n",
       "      <td>0</td>\n",
       "      <td>2014 04 30 To better understand autism spectru...</td>\n",
       "    </tr>\n",
       "    <tr>\n",
       "      <th>3099</th>\n",
       "      <td>0</td>\n",
       "      <td>2005 11 30 See above True False True True True...</td>\n",
       "    </tr>\n",
       "    <tr>\n",
       "      <th>3100</th>\n",
       "      <td>0</td>\n",
       "      <td>2009 12 31 True False True True True Patients ...</td>\n",
       "    </tr>\n",
       "    <tr>\n",
       "      <th>3093</th>\n",
       "      <td>0</td>\n",
       "      <td>OBJECTIVES I Determine whether high dose tamox...</td>\n",
       "    </tr>\n",
       "    <tr>\n",
       "      <th>3092</th>\n",
       "      <td>0</td>\n",
       "      <td>True False True True True Planned spinal fusio...</td>\n",
       "    </tr>\n",
       "    <tr>\n",
       "      <th>3095</th>\n",
       "      <td>0</td>\n",
       "      <td>BACKGROUND There is a need for new and more ef...</td>\n",
       "    </tr>\n",
       "    <tr>\n",
       "      <th>3103</th>\n",
       "      <td>0</td>\n",
       "      <td>2009 09 30 Asthma is a common airway disease w...</td>\n",
       "    </tr>\n",
       "    <tr>\n",
       "      <th>3102</th>\n",
       "      <td>0</td>\n",
       "      <td>2007 03 31 OBJECTIVES Estimate the failure fre...</td>\n",
       "    </tr>\n",
       "  </tbody>\n",
       "</table>\n",
       "</div>"
      ],
      "text/plain": [
       "      is_surgery                                         trial_text\n",
       "947            1  This is non blinded randomized controlled tria...\n",
       "882            1  2007 07 31 OBJECTIVES Determine the concentrat...\n",
       "202            1  2004 04 30 OBJECTIVES Compare overall survival...\n",
       "3721           1  True False True True True Veterans will be exc...\n",
       "4185           1  2007 03 31 PRECISE is a Phase III clinical tri...\n",
       "122            1  OBJECTIVES Determine the overall survival of p...\n",
       "1285           1  2014 10 31 OBJECTIVES Compare the overall surv...\n",
       "1719           1  OUTLINE This is a multicenter phase II III stu...\n",
       "2720           1  This is a Phase I clinical trial of experiment...\n",
       "3841           1  2011 10 31 OBJECTIVES Determine the relationsh...\n",
       "116            1  2007 02 28 OBJECTIVES I Compare the overall su...\n",
       "2077           1  2014 07 31 Postoperative delirium is a common ...\n",
       "3094           0  2017 03 06 This is a double blind randomized p...\n",
       "3101           0  Recruitment Screening Tool Eligible homeless i...\n",
       "3096           0  2014 06 30 True False True True True Undocumen...\n",
       "3097           0  2006 10 31 True False True True True Patients ...\n",
       "3098           0  2014 04 30 To better understand autism spectru...\n",
       "3099           0  2005 11 30 See above True False True True True...\n",
       "3100           0  2009 12 31 True False True True True Patients ...\n",
       "3093           0  OBJECTIVES I Determine whether high dose tamox...\n",
       "3092           0  True False True True True Planned spinal fusio...\n",
       "3095           0  BACKGROUND There is a need for new and more ef...\n",
       "3103           0  2009 09 30 Asthma is a common airway disease w...\n",
       "3102           0  2007 03 31 OBJECTIVES Estimate the failure fre..."
      ]
     },
     "execution_count": 76,
     "metadata": {},
     "output_type": "execute_result"
    }
   ],
   "source": [
    "train_set"
   ]
  },
  {
   "cell_type": "code",
   "execution_count": 77,
   "metadata": {
    "collapsed": true
   },
   "outputs": [],
   "source": [
    "vectorizer = CountVectorizer(analyzer = \"word\", \n",
    "    tokenizer = None, \n",
    "    preprocessor = None, \n",
    "    stop_words = 'english',                                \n",
    "    max_features = 100)"
   ]
  },
  {
   "cell_type": "code",
   "execution_count": 78,
   "metadata": {
    "collapsed": true
   },
   "outputs": [],
   "source": [
    "train_data_features = vectorizer.fit_transform(train_set['trial_text'])"
   ]
  },
  {
   "cell_type": "code",
   "execution_count": 79,
   "metadata": {},
   "outputs": [
    {
     "data": {
      "text/plain": [
       "array([[1, 0, 2, ..., 0, 0, 6],\n",
       "       [0, 3, 2, ..., 6, 5, 2],\n",
       "       [3, 0, 2, ..., 0, 0, 5],\n",
       "       ..., \n",
       "       [2, 5, 2, ..., 0, 0, 4],\n",
       "       [3, 4, 2, ..., 1, 1, 2],\n",
       "       [0, 0, 2, ..., 0, 1, 0]], dtype=int64)"
      ]
     },
     "execution_count": 79,
     "metadata": {},
     "output_type": "execute_result"
    }
   ],
   "source": [
    "train_data_features.toarray()"
   ]
  },
  {
   "cell_type": "markdown",
   "metadata": {},
   "source": [
    "#### visualize the positive and negative graphs"
   ]
  },
  {
   "cell_type": "code",
   "execution_count": 80,
   "metadata": {
    "collapsed": true
   },
   "outputs": [],
   "source": [
    "%matplotlib inline\n",
    "import matplotlib.pyplot as plt\n",
    "import pandas as pd"
   ]
  },
  {
   "cell_type": "code",
   "execution_count": 81,
   "metadata": {},
   "outputs": [
    {
     "data": {
      "text/plain": [
       "(array([ 0,  1,  2,  3,  4,  5,  6,  7,  8,  9, 10, 11, 12, 13, 14, 15, 16,\n",
       "        17, 18, 19, 20, 21, 22, 23, 24, 25, 26, 27, 28, 29, 30, 31, 32, 33,\n",
       "        34, 35, 36, 37, 38, 39, 40, 41, 42, 43, 44, 45, 46, 47, 48, 49, 50,\n",
       "        51, 52, 53, 54, 55, 56, 57, 58, 59, 60, 61, 62, 63, 64, 65, 66, 67,\n",
       "        68, 69, 70, 71, 72, 73, 74, 75, 76, 77, 78, 79, 80, 81, 82, 83, 84,\n",
       "        85, 86, 87, 88, 89, 90, 91, 92, 93, 94, 95, 96, 97, 98, 99]),\n",
       " <a list of 100 Text xticklabel objects>)"
      ]
     },
     "execution_count": 81,
     "metadata": {},
     "output_type": "execute_result"
    },
    {
     "data": {
      "image/png": "[encoded data removed]",
      "text/plain": [
       "<matplotlib.figure.Figure at 0x1a25c64860>"
      ]
     },
     "metadata": {},
     "output_type": "display_data"
    }
   ],
   "source": [
    "surgery = {}\n",
    "surgery['word'] = vectorizer.get_feature_names()\n",
    "for i in range(12):\n",
    "    surgery['R' + str(i)] = train_data_features.toarray()[i]\n",
    "    \n",
    "df = pd.DataFrame(surgery)\n",
    "df = df.set_index('word')\n",
    "\n",
    "plt.style.use('ggplot')\n",
    "plt.rcParams[\"figure.figsize\"] = [14,7]\n",
    "df.plot(kind='bar')\n",
    "plt.xticks(rotation=90)"
   ]
  },
  {
   "cell_type": "code",
   "execution_count": 82,
   "metadata": {},
   "outputs": [
    {
     "data": {
      "text/plain": [
       "(array([ 0,  1,  2,  3,  4,  5,  6,  7,  8,  9, 10, 11, 12, 13, 14, 15, 16,\n",
       "        17, 18, 19, 20, 21, 22, 23, 24, 25, 26, 27, 28, 29, 30, 31, 32, 33,\n",
       "        34, 35, 36, 37, 38, 39, 40, 41, 42, 43, 44, 45, 46, 47, 48, 49, 50,\n",
       "        51, 52, 53, 54, 55, 56, 57, 58, 59, 60, 61, 62, 63, 64, 65, 66, 67,\n",
       "        68, 69, 70, 71, 72, 73, 74, 75, 76, 77, 78, 79, 80, 81, 82, 83, 84,\n",
       "        85, 86, 87, 88, 89, 90, 91, 92, 93, 94, 95, 96, 97, 98, 99]),\n",
       " <a list of 100 Text xticklabel objects>)"
      ]
     },
     "execution_count": 82,
     "metadata": {},
     "output_type": "execute_result"
    },
    {
     "data": {
      "image/png": "[encoded data removed]",
      "text/plain": [
       "<matplotlib.figure.Figure at 0x1a34fd8be0>"
      ]
     },
     "metadata": {},
     "output_type": "display_data"
    }
   ],
   "source": [
    "surgery = {}\n",
    "surgery['word'] = vectorizer.get_feature_names()\n",
    "for i in range(12,24):\n",
    "    surgery['R' + str(i)] = train_data_features.toarray()[i]\n",
    "    \n",
    "df = pd.DataFrame(surgery)\n",
    "df = df.set_index('word')\n",
    "\n",
    "plt.style.use('ggplot')\n",
    "plt.rcParams[\"figure.figsize\"] = [14,7]\n",
    "df.plot(kind='bar')\n",
    "plt.xticks(rotation=90)"
   ]
  },
  {
   "cell_type": "code",
   "execution_count": null,
   "metadata": {
    "collapsed": true
   },
   "outputs": [],
   "source": [
    "train_data_features.toarray()[:12]"
   ]
  },
  {
   "cell_type": "code",
   "execution_count": 83,
   "metadata": {
    "collapsed": true
   },
   "outputs": [],
   "source": [
    "clf = LogisticRegression()\n",
    "#clf= MLPClassifier()\n",
    "#clf = MultinomialNB()"
   ]
  },
  {
   "cell_type": "code",
   "execution_count": null,
   "metadata": {
    "collapsed": true
   },
   "outputs": [],
   "source": [
    "train_set[\"is_surgery\"]"
   ]
  },
  {
   "cell_type": "code",
   "execution_count": 84,
   "metadata": {},
   "outputs": [
    {
     "data": {
      "text/plain": [
       "LogisticRegression(C=1.0, class_weight=None, dual=False, fit_intercept=True,\n",
       "          intercept_scaling=1, max_iter=100, multi_class='ovr', n_jobs=1,\n",
       "          penalty='l2', random_state=None, solver='liblinear', tol=0.0001,\n",
       "          verbose=0, warm_start=False)"
      ]
     },
     "execution_count": 84,
     "metadata": {},
     "output_type": "execute_result"
    }
   ],
   "source": [
    "clf.fit(train_data_features, train_set[\"is_surgery\"] )"
   ]
  },
  {
   "cell_type": "code",
   "execution_count": 85,
   "metadata": {},
   "outputs": [
    {
     "data": {
      "text/plain": [
       "1.0"
      ]
     },
     "execution_count": 85,
     "metadata": {},
     "output_type": "execute_result"
    }
   ],
   "source": [
    "# overfitted\n",
    "clf.score(train_data_features,train_set['is_surgery'])"
   ]
  },
  {
   "cell_type": "code",
   "execution_count": null,
   "metadata": {
    "collapsed": true
   },
   "outputs": [],
   "source": [
    "# make a prediction"
   ]
  },
  {
   "cell_type": "code",
   "execution_count": 86,
   "metadata": {
    "collapsed": true
   },
   "outputs": [],
   "source": [
    "cancer_trial = \"There is a critical need for physical activity interventions in CRC. The investigators \\\n",
    "have developed a digital health physical activity intervention, Smart Pace, which includes a wearable \\\n",
    "tracker (Fitbit) and text messaging and aims to have patients build up to 150 min/wk of moderate activity\"\n",
    "\n",
    "cancer_trial = [re.sub(\"[^a-zA-Z0-9]\",\" \", cancer_trial)]"
   ]
  },
  {
   "cell_type": "code",
   "execution_count": 87,
   "metadata": {
    "collapsed": true
   },
   "outputs": [],
   "source": [
    "test_data_features = vectorizer.transform(cancer_trial)"
   ]
  },
  {
   "cell_type": "code",
   "execution_count": 88,
   "metadata": {},
   "outputs": [
    {
     "name": "stdout",
     "output_type": "stream",
     "text": [
      "[[ 0.45566269  0.54433731]]\n"
     ]
    }
   ],
   "source": [
    "binary_predictions = clf.predict_proba(test_data_features)\n",
    "print(binary_predictions)"
   ]
  },
  {
   "cell_type": "code",
   "execution_count": 89,
   "metadata": {
    "collapsed": true
   },
   "outputs": [],
   "source": [
    "surgery_trial = \"Myocardial injury after non-cardiac surgery (MINS) is common in patients undergoing\\\n",
    "major surgery. Many of the events are undetected and associated with a high 30-day mortality risk. \\\n",
    "Knowledge of which perioperative factors that predicts MINS is lacking. Decrease in tissue \\\n",
    "oxygenation (StO2) is common in patients undergoing major spine surgery and is associated \\\n",
    "with postoperative complications in these patients.\"\n",
    "\n",
    "surgery_trial = [re.sub(\"[^a-zA-Z0-9]\",\" \", surgery_trial)]"
   ]
  },
  {
   "cell_type": "code",
   "execution_count": 90,
   "metadata": {
    "collapsed": true
   },
   "outputs": [],
   "source": [
    "test_data_features = vectorizer.transform(surgery_trial)"
   ]
  },
  {
   "cell_type": "code",
   "execution_count": 91,
   "metadata": {},
   "outputs": [
    {
     "data": {
      "text/plain": [
       "array([[ 0.16047269,  0.83952731]])"
      ]
     },
     "execution_count": 91,
     "metadata": {},
     "output_type": "execute_result"
    }
   ],
   "source": [
    "clf.predict_proba(test_data_features)"
   ]
  },
  {
   "cell_type": "code",
   "execution_count": 92,
   "metadata": {
    "collapsed": true
   },
   "outputs": [],
   "source": [
    "wikipedia_surgery = \"is a medical specialty that uses operative manual and instrumental techniques\\\n",
    "on a patient to investigate or treat a pathological condition such as a disease or injury, to help\\\n",
    "improve bodily function or appearance or to repair\\\n",
    "unwanted ruptured areas\"\n",
    "\n",
    "wikipedia_surgery = [re.sub(\"[^a-zA-Z0-9]\",\" \", wikipedia_surgery)]"
   ]
  },
  {
   "cell_type": "code",
   "execution_count": 93,
   "metadata": {
    "collapsed": true
   },
   "outputs": [],
   "source": [
    "test_data_features = vectorizer.transform(wikipedia_surgery)"
   ]
  },
  {
   "cell_type": "code",
   "execution_count": 94,
   "metadata": {},
   "outputs": [
    {
     "data": {
      "text/plain": [
       "array([[ 0.40357006,  0.59642994]])"
      ]
     },
     "execution_count": 94,
     "metadata": {},
     "output_type": "execute_result"
    }
   ],
   "source": [
    "clf.predict_proba(test_data_features)"
   ]
  },
  {
   "cell_type": "code",
   "execution_count": 101,
   "metadata": {},
   "outputs": [
    {
     "name": "stdout",
     "output_type": "stream",
     "text": [
      "operative operative operative operative operative operative operative operative operative operative \n"
     ]
    }
   ],
   "source": [
    "repeated_word = \"operative \" * 10\n",
    "print(repeated_word)"
   ]
  },
  {
   "cell_type": "code",
   "execution_count": 102,
   "metadata": {
    "collapsed": true
   },
   "outputs": [],
   "source": [
    "test_data_features = vectorizer.transform([repeated_word])"
   ]
  },
  {
   "cell_type": "code",
   "execution_count": 103,
   "metadata": {},
   "outputs": [
    {
     "data": {
      "text/plain": [
       "array([[ 0.13674264,  0.86325736]])"
      ]
     },
     "execution_count": 103,
     "metadata": {},
     "output_type": "execute_result"
    }
   ],
   "source": [
    "clf.predict_proba(test_data_features)"
   ]
  },
  {
   "cell_type": "code",
   "execution_count": null,
   "metadata": {
    "collapsed": true
   },
   "outputs": [],
   "source": []
  },
  {
   "cell_type": "code",
   "execution_count": null,
   "metadata": {
    "collapsed": true
   },
   "outputs": [],
   "source": []
  }
 ],
 "metadata": {
  "kernelspec": {
   "display_name": "Python 3",
   "language": "python",
   "name": "python3"
  },
  "language_info": {
   "codemirror_mode": {
    "name": "ipython",
    "version": 3
   },
   "file_extension": ".py",
   "mimetype": "text/x-python",
   "name": "python",
   "nbconvert_exporter": "python",
   "pygments_lexer": "ipython3",
   "version": "3.6.3"
  }
 },
 "nbformat": 4,
 "nbformat_minor": 2
}
